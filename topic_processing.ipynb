{
 "cells": [
  {
   "cell_type": "code",
   "execution_count": 87,
   "id": "6d8d0463-da14-407c-be34-7aa87ce281ab",
   "metadata": {
    "tags": []
   },
   "outputs": [],
   "source": [
    "# Data processing\n",
    "import pandas as pd\n",
    "import numpy as np\n",
    "import ssl\n",
    "\n",
    "# Text preprocessiong\n",
    "import nltk\n",
    "import spacy\n",
    "from spacy.lang.fr.stop_words import STOP_WORDS\n",
    "\n",
    "# Topic model\n",
    "from bertopic import BERTopic\n",
    "\n",
    "# Dimension reduction\n",
    "from umap import UMAP"
   ]
  },
  {
   "cell_type": "code",
   "execution_count": 28,
   "id": "17c79bf9-225f-4251-9232-4916a7911137",
   "metadata": {
    "tags": []
   },
   "outputs": [],
   "source": [
    "# disable ssl check (to be able to download nltk packages)\n",
    "\n",
    "try:\n",
    "    _create_unverified_https_context = ssl._create_unverified_context\n",
    "except AttributeError:\n",
    "    pass\n",
    "else:\n",
    "    ssl._create_default_https_context = _create_unverified_https_context"
   ]
  },
  {
   "cell_type": "code",
   "execution_count": 29,
   "id": "25d89f7d-6366-4571-9b1e-782f53dac2ba",
   "metadata": {
    "tags": []
   },
   "outputs": [
    {
     "name": "stderr",
     "output_type": "stream",
     "text": [
      "[nltk_data] Downloading package stopwords to\n",
      "[nltk_data]     /Users/cyrille/nltk_data...\n",
      "[nltk_data]   Unzipping corpora/stopwords.zip.\n",
      "[nltk_data] Downloading package omw-1.4 to /Users/cyrille/nltk_data...\n",
      "[nltk_data] Downloading package wordnet to /Users/cyrille/nltk_data...\n"
     ]
    }
   ],
   "source": [
    "# download nltk packages\n",
    "\n",
    "nltk.download('stopwords')\n",
    "nltk.download('omw-1.4')\n",
    "nltk.download('wordnet')\n",
    "wn = nltk.WordNetLemmatizer()"
   ]
  },
  {
   "cell_type": "code",
   "execution_count": 5,
   "id": "66ba834f-6946-4992-9877-8a8b6c5fc400",
   "metadata": {
    "tags": []
   },
   "outputs": [
    {
     "data": {
      "text/html": [
       "<div>\n",
       "<style scoped>\n",
       "    .dataframe tbody tr th:only-of-type {\n",
       "        vertical-align: middle;\n",
       "    }\n",
       "\n",
       "    .dataframe tbody tr th {\n",
       "        vertical-align: top;\n",
       "    }\n",
       "\n",
       "    .dataframe thead th {\n",
       "        text-align: right;\n",
       "    }\n",
       "</style>\n",
       "<table border=\"1\" class=\"dataframe\">\n",
       "  <thead>\n",
       "    <tr style=\"text-align: right;\">\n",
       "      <th></th>\n",
       "      <th>ID</th>\n",
       "      <th>IdSubject</th>\n",
       "      <th>PersonNumber</th>\n",
       "      <th>Text</th>\n",
       "      <th>MeetingCouncilAbbreviation</th>\n",
       "      <th>MeetingDate</th>\n",
       "      <th>IdSession</th>\n",
       "      <th>SpeakerFunction</th>\n",
       "      <th>CouncilId</th>\n",
       "      <th>Start</th>\n",
       "      <th>End</th>\n",
       "      <th>Function</th>\n",
       "      <th>LanguageOfText</th>\n",
       "    </tr>\n",
       "  </thead>\n",
       "  <tbody>\n",
       "    <tr>\n",
       "      <th>0</th>\n",
       "      <td>191147</td>\n",
       "      <td>36015</td>\n",
       "      <td>214</td>\n",
       "      <td>Präsident (Stamm Luzi, Alterspräsident): Frau ...</td>\n",
       "      <td>N</td>\n",
       "      <td>20151130</td>\n",
       "      <td>5001</td>\n",
       "      <td>Mit-M</td>\n",
       "      <td>1.0</td>\n",
       "      <td>2015-11-30T14:31:12</td>\n",
       "      <td>2015-11-30T14:54:17</td>\n",
       "      <td>Mit-M</td>\n",
       "      <td>NaN</td>\n",
       "    </tr>\n",
       "    <tr>\n",
       "      <th>1</th>\n",
       "      <td>191153</td>\n",
       "      <td>36015</td>\n",
       "      <td>4186</td>\n",
       "      <td>\"Un politico guarda alle prossime elezioni. Un...</td>\n",
       "      <td>N</td>\n",
       "      <td>20151130</td>\n",
       "      <td>5001</td>\n",
       "      <td>Mit-F</td>\n",
       "      <td>1.0</td>\n",
       "      <td>2015-11-30T14:54:17</td>\n",
       "      <td>2015-11-30T15:03:07</td>\n",
       "      <td>Mit-F</td>\n",
       "      <td>IT</td>\n",
       "    </tr>\n",
       "    <tr>\n",
       "      <th>2</th>\n",
       "      <td>191155</td>\n",
       "      <td>36015</td>\n",
       "      <td>214</td>\n",
       "      <td>Präsident (Stamm Luzi, Alterspräsident): Ich b...</td>\n",
       "      <td>N</td>\n",
       "      <td>20151130</td>\n",
       "      <td>5001</td>\n",
       "      <td>Mit-M</td>\n",
       "      <td>1.0</td>\n",
       "      <td>2015-11-30T15:03:07</td>\n",
       "      <td>2015-11-30T15:03:46</td>\n",
       "      <td>Mit-M</td>\n",
       "      <td>DE</td>\n",
       "    </tr>\n",
       "    <tr>\n",
       "      <th>3</th>\n",
       "      <td>191152</td>\n",
       "      <td>36016</td>\n",
       "      <td>214</td>\n",
       "      <td>Präsident (Stamm Luzi, Alterspräsident): Dem A...</td>\n",
       "      <td>N</td>\n",
       "      <td>20151130</td>\n",
       "      <td>5001</td>\n",
       "      <td>Mit-M</td>\n",
       "      <td>1.0</td>\n",
       "      <td>2015-11-30T15:03:46</td>\n",
       "      <td>2015-11-30T15:05:12</td>\n",
       "      <td>Mit-M</td>\n",
       "      <td>DE</td>\n",
       "    </tr>\n",
       "    <tr>\n",
       "      <th>4</th>\n",
       "      <td>191157</td>\n",
       "      <td>36016</td>\n",
       "      <td>519</td>\n",
       "      <td>Zur Konstituierung des Rates: Sie haben den Be...</td>\n",
       "      <td>N</td>\n",
       "      <td>20151130</td>\n",
       "      <td>5001</td>\n",
       "      <td>Mit-M</td>\n",
       "      <td>1.0</td>\n",
       "      <td>2015-11-30T15:05:12</td>\n",
       "      <td>2015-11-30T15:07:12</td>\n",
       "      <td>B</td>\n",
       "      <td>DE</td>\n",
       "    </tr>\n",
       "    <tr>\n",
       "      <th>...</th>\n",
       "      <td>...</td>\n",
       "      <td>...</td>\n",
       "      <td>...</td>\n",
       "      <td>...</td>\n",
       "      <td>...</td>\n",
       "      <td>...</td>\n",
       "      <td>...</td>\n",
       "      <td>...</td>\n",
       "      <td>...</td>\n",
       "      <td>...</td>\n",
       "      <td>...</td>\n",
       "      <td>...</td>\n",
       "      <td>...</td>\n",
       "    </tr>\n",
       "    <tr>\n",
       "      <th>1438</th>\n",
       "      <td>193945</td>\n",
       "      <td>36352</td>\n",
       "      <td>525</td>\n",
       "      <td>Der Bundesrat hat in seiner Stellungnahme ein ...</td>\n",
       "      <td>S</td>\n",
       "      <td>20151217</td>\n",
       "      <td>5001</td>\n",
       "      <td>Mit-M</td>\n",
       "      <td>2.0</td>\n",
       "      <td>2015-12-17T10:22:05</td>\n",
       "      <td>2015-12-17T10:23:45</td>\n",
       "      <td>Mit-M</td>\n",
       "      <td>DE</td>\n",
       "    </tr>\n",
       "    <tr>\n",
       "      <th>1439</th>\n",
       "      <td>193930</td>\n",
       "      <td>36357</td>\n",
       "      <td>825</td>\n",
       "      <td>Vorab möchte ich mich insofern für den Vorstos...</td>\n",
       "      <td>S</td>\n",
       "      <td>20151217</td>\n",
       "      <td>5001</td>\n",
       "      <td>Mit-M</td>\n",
       "      <td>2.0</td>\n",
       "      <td>2015-12-17T10:24:58</td>\n",
       "      <td>2015-12-17T10:32:25</td>\n",
       "      <td>Mit-M</td>\n",
       "      <td>DE</td>\n",
       "    </tr>\n",
       "    <tr>\n",
       "      <th>1440</th>\n",
       "      <td>193924</td>\n",
       "      <td>36357</td>\n",
       "      <td>4055</td>\n",
       "      <td>Auch ich möchte eine ergebnisoffene Diskussion...</td>\n",
       "      <td>S</td>\n",
       "      <td>20151217</td>\n",
       "      <td>5001</td>\n",
       "      <td>Mit-M</td>\n",
       "      <td>2.0</td>\n",
       "      <td>2015-12-17T10:32:25</td>\n",
       "      <td>2015-12-17T10:37:45</td>\n",
       "      <td>Mit-M</td>\n",
       "      <td>DE</td>\n",
       "    </tr>\n",
       "    <tr>\n",
       "      <th>1441</th>\n",
       "      <td>193934</td>\n",
       "      <td>36357</td>\n",
       "      <td>3921</td>\n",
       "      <td>Auch ich bin ein bisschen überrascht von diese...</td>\n",
       "      <td>S</td>\n",
       "      <td>20151217</td>\n",
       "      <td>5001</td>\n",
       "      <td>Mit-M</td>\n",
       "      <td>2.0</td>\n",
       "      <td>2015-12-17T10:37:45</td>\n",
       "      <td>2015-12-17T10:40:54</td>\n",
       "      <td>Mit-M</td>\n",
       "      <td>DE</td>\n",
       "    </tr>\n",
       "    <tr>\n",
       "      <th>1442</th>\n",
       "      <td>193932</td>\n",
       "      <td>36357</td>\n",
       "      <td>488</td>\n",
       "      <td>Bei diesem Thema können wir im Bericht bringen...</td>\n",
       "      <td>S</td>\n",
       "      <td>20151217</td>\n",
       "      <td>5001</td>\n",
       "      <td>BR-F</td>\n",
       "      <td>99.0</td>\n",
       "      <td>2015-12-17T10:40:54</td>\n",
       "      <td>2015-12-17T10:47:11</td>\n",
       "      <td>BR-F</td>\n",
       "      <td>DE</td>\n",
       "    </tr>\n",
       "  </tbody>\n",
       "</table>\n",
       "<p>1443 rows × 13 columns</p>\n",
       "</div>"
      ],
      "text/plain": [
       "          ID  IdSubject  PersonNumber   \n",
       "0     191147      36015           214  \\\n",
       "1     191153      36015          4186   \n",
       "2     191155      36015           214   \n",
       "3     191152      36016           214   \n",
       "4     191157      36016           519   \n",
       "...      ...        ...           ...   \n",
       "1438  193945      36352           525   \n",
       "1439  193930      36357           825   \n",
       "1440  193924      36357          4055   \n",
       "1441  193934      36357          3921   \n",
       "1442  193932      36357           488   \n",
       "\n",
       "                                                   Text   \n",
       "0     Präsident (Stamm Luzi, Alterspräsident): Frau ...  \\\n",
       "1     \"Un politico guarda alle prossime elezioni. Un...   \n",
       "2     Präsident (Stamm Luzi, Alterspräsident): Ich b...   \n",
       "3     Präsident (Stamm Luzi, Alterspräsident): Dem A...   \n",
       "4     Zur Konstituierung des Rates: Sie haben den Be...   \n",
       "...                                                 ...   \n",
       "1438  Der Bundesrat hat in seiner Stellungnahme ein ...   \n",
       "1439  Vorab möchte ich mich insofern für den Vorstos...   \n",
       "1440  Auch ich möchte eine ergebnisoffene Diskussion...   \n",
       "1441  Auch ich bin ein bisschen überrascht von diese...   \n",
       "1442  Bei diesem Thema können wir im Bericht bringen...   \n",
       "\n",
       "     MeetingCouncilAbbreviation  MeetingDate  IdSession SpeakerFunction   \n",
       "0                             N     20151130       5001           Mit-M  \\\n",
       "1                             N     20151130       5001           Mit-F   \n",
       "2                             N     20151130       5001           Mit-M   \n",
       "3                             N     20151130       5001           Mit-M   \n",
       "4                             N     20151130       5001           Mit-M   \n",
       "...                         ...          ...        ...             ...   \n",
       "1438                          S     20151217       5001           Mit-M   \n",
       "1439                          S     20151217       5001           Mit-M   \n",
       "1440                          S     20151217       5001           Mit-M   \n",
       "1441                          S     20151217       5001           Mit-M   \n",
       "1442                          S     20151217       5001            BR-F   \n",
       "\n",
       "      CouncilId                Start                  End Function   \n",
       "0           1.0  2015-11-30T14:31:12  2015-11-30T14:54:17    Mit-M  \\\n",
       "1           1.0  2015-11-30T14:54:17  2015-11-30T15:03:07    Mit-F   \n",
       "2           1.0  2015-11-30T15:03:07  2015-11-30T15:03:46    Mit-M   \n",
       "3           1.0  2015-11-30T15:03:46  2015-11-30T15:05:12    Mit-M   \n",
       "4           1.0  2015-11-30T15:05:12  2015-11-30T15:07:12        B   \n",
       "...         ...                  ...                  ...      ...   \n",
       "1438        2.0  2015-12-17T10:22:05  2015-12-17T10:23:45    Mit-M   \n",
       "1439        2.0  2015-12-17T10:24:58  2015-12-17T10:32:25    Mit-M   \n",
       "1440        2.0  2015-12-17T10:32:25  2015-12-17T10:37:45    Mit-M   \n",
       "1441        2.0  2015-12-17T10:37:45  2015-12-17T10:40:54    Mit-M   \n",
       "1442       99.0  2015-12-17T10:40:54  2015-12-17T10:47:11     BR-F   \n",
       "\n",
       "     LanguageOfText  \n",
       "0               NaN  \n",
       "1                IT  \n",
       "2                DE  \n",
       "3                DE  \n",
       "4                DE  \n",
       "...             ...  \n",
       "1438             DE  \n",
       "1439             DE  \n",
       "1440             DE  \n",
       "1441             DE  \n",
       "1442             DE  \n",
       "\n",
       "[1443 rows x 13 columns]"
      ]
     },
     "execution_count": 5,
     "metadata": {},
     "output_type": "execute_result"
    }
   ],
   "source": [
    "with open('data/transcripts/transcript_5001.csv', encoding='utf-8') as file:\n",
    "    transcript_df = pd.read_csv(file).drop(columns='Unnamed: 0')\n",
    "    \n",
    "transcript_df"
   ]
  },
  {
   "cell_type": "code",
   "execution_count": 68,
   "id": "7c243bc6-31c8-4ab9-94a4-6f2704908681",
   "metadata": {
    "tags": []
   },
   "outputs": [
    {
     "data": {
      "text/html": [
       "<div>\n",
       "<style scoped>\n",
       "    .dataframe tbody tr th:only-of-type {\n",
       "        vertical-align: middle;\n",
       "    }\n",
       "\n",
       "    .dataframe tbody tr th {\n",
       "        vertical-align: top;\n",
       "    }\n",
       "\n",
       "    .dataframe thead th {\n",
       "        text-align: right;\n",
       "    }\n",
       "</style>\n",
       "<table border=\"1\" class=\"dataframe\">\n",
       "  <thead>\n",
       "    <tr style=\"text-align: right;\">\n",
       "      <th></th>\n",
       "      <th>ID</th>\n",
       "      <th>Text</th>\n",
       "    </tr>\n",
       "  </thead>\n",
       "  <tbody>\n",
       "    <tr>\n",
       "      <th>5</th>\n",
       "      <td>191151</td>\n",
       "      <td>Vous avez reçu le rapport du Conseil fédéral s...</td>\n",
       "    </tr>\n",
       "    <tr>\n",
       "      <th>9</th>\n",
       "      <td>191158</td>\n",
       "      <td>Pour adopter les décisions et formuler les pro...</td>\n",
       "    </tr>\n",
       "    <tr>\n",
       "      <th>18</th>\n",
       "      <td>191267</td>\n",
       "      <td>Vous vous souvenez que le groupe UDC recommand...</td>\n",
       "    </tr>\n",
       "    <tr>\n",
       "      <th>21</th>\n",
       "      <td>191199</td>\n",
       "      <td>Dans ce dossier, nous sommes maintenant à bout...</td>\n",
       "    </tr>\n",
       "    <tr>\n",
       "      <th>28</th>\n",
       "      <td>191226</td>\n",
       "      <td>On peut rester relativement calme sur ce sujet...</td>\n",
       "    </tr>\n",
       "    <tr>\n",
       "      <th>...</th>\n",
       "      <td>...</td>\n",
       "      <td>...</td>\n",
       "    </tr>\n",
       "    <tr>\n",
       "      <th>1426</th>\n",
       "      <td>193850</td>\n",
       "      <td>Madame Bruderer Wyss, je peux en effet confirm...</td>\n",
       "    </tr>\n",
       "    <tr>\n",
       "      <th>1428</th>\n",
       "      <td>193899</td>\n",
       "      <td>Le but de mon interpellation n'est pas d'ajout...</td>\n",
       "    </tr>\n",
       "    <tr>\n",
       "      <th>1430</th>\n",
       "      <td>193929</td>\n",
       "      <td>En préambule, j'aimerais saluer l'interpellati...</td>\n",
       "    </tr>\n",
       "    <tr>\n",
       "      <th>1432</th>\n",
       "      <td>193855</td>\n",
       "      <td>L'apprentissage des langues est une question q...</td>\n",
       "    </tr>\n",
       "    <tr>\n",
       "      <th>1436</th>\n",
       "      <td>193940</td>\n",
       "      <td>Ce postulat a été déposé au mois de juin 2015....</td>\n",
       "    </tr>\n",
       "  </tbody>\n",
       "</table>\n",
       "<p>324 rows × 2 columns</p>\n",
       "</div>"
      ],
      "text/plain": [
       "          ID                                               Text\n",
       "5     191151  Vous avez reçu le rapport du Conseil fédéral s...\n",
       "9     191158  Pour adopter les décisions et formuler les pro...\n",
       "18    191267  Vous vous souvenez que le groupe UDC recommand...\n",
       "21    191199  Dans ce dossier, nous sommes maintenant à bout...\n",
       "28    191226  On peut rester relativement calme sur ce sujet...\n",
       "...      ...                                                ...\n",
       "1426  193850  Madame Bruderer Wyss, je peux en effet confirm...\n",
       "1428  193899  Le but de mon interpellation n'est pas d'ajout...\n",
       "1430  193929  En préambule, j'aimerais saluer l'interpellati...\n",
       "1432  193855  L'apprentissage des langues est une question q...\n",
       "1436  193940  Ce postulat a été déposé au mois de juin 2015....\n",
       "\n",
       "[324 rows x 2 columns]"
      ]
     },
     "execution_count": 68,
     "metadata": {},
     "output_type": "execute_result"
    }
   ],
   "source": [
    "filtered_transcript = transcript_df.loc[transcript_df['LanguageOfText'] == 'FR'][['ID', 'Text']]\n",
    "filtered_transcript"
   ]
  },
  {
   "cell_type": "code",
   "execution_count": 84,
   "id": "cbc97983-7ac0-4379-a05f-be30b6e6540d",
   "metadata": {
    "tags": []
   },
   "outputs": [
    {
     "name": "stdout",
     "output_type": "stream",
     "text": [
      "Avez-vous lu le message du Conseil fédéral sur ce sujet? Si c'est le cas, eh bien vous avez perdu votre temps! Pourquoi? Parce qu'il est complètement dépassé. A l'origine, ce message était prévu comme contre-projet indirect à l'initiative populaire \"pour une caisse publique d'assurance maladie\". Dans l'intervalle, beaucoup de choses ont été votées au sein de ce Parlement.\n",
      "Premier élément, la question de l'affinement de la compensation des risques. Nous avons voté sur ce sujet au Parlement lors de la dernière législature. Tout le volet concernant la compensation des risques de ce message est donc dépassé.\n",
      "Deuxième élément, la loi fédérale sur la surveillance de l'assurance-maladie sociale. Ici aussi, nous avons adopté au sein de ce Parlement cette loi qui entrera bientôt en vigueur. Si vous lisez la page 7140 du message, vous verrez que tous les problèmes pouvant survenir, notamment au niveau des coûts administratifs ou des subventionnements croisés, sont décrits. Vous pouvez donc aussi oublier ce passage, parce que la loi fédérale sur la surveillance de l'assurance-maladie sociale vous permet de résoudre ces problèmes.\n",
      "Il reste un seul point dans ce message, la question de la séparation juridique entre l'assurance-maladie de base et les assurances complémentaires. Ce point peut être examiné selon deux visions différentes. Premièrement, on peut estimer qu'il faut entre l'assurance-maladie de base et les assurances complémentaires une véritable muraille de Chine. Que veut dire cela? Cela veut dire des factures séparées, des courriers séparés, un système informatique séparé. Eh bien, cela a un coût, soit 400 millions de francs - 200 millions de part et d'autre. Ceci ressort des auditions qui ont eu lieu au sein de la Commission de la sécurité sociale et de la santé publique du Conseil des Etats. La majorité de votre commission estime que, pour un tel coût, cela n'en vaut pas la peine, et que le fait de créer une telle muraille de Chine n'apporte rien.\n",
      "Il reste la question de la pure séparation juridique, c'est-à-dire du fait de demander qu'il y ait deux entités juridiques distinctes: une pour l'assurance de base et une pour l'assurance complémentaire. Là, figurez-vous que la majorité des assurances-maladie procèdent déjà ainsi. Seules quatorze assurances-maladie ne le font pas. Parmi ces quatorze, les trois plus importantes sont Swica, Vivao Sympany et Atupri - les autres sont plus petites. Toutes les autres grandes caisses-maladie ont, elles, déjà une séparation juridique entre l'assurance de base et l'assurance complémentaire.\n",
      "Alors que se passe-t-il pour ces quatorze assurances-maladie? Il y a déjà l'obligation de tenir une comptabilité séparée. Comme je vous l'ai dit, la loi sur la surveillance de l'assurance-maladie va permettre de s'assurer qu'il n'y a pas de subventionnement croisé entre ces deux assurances, et elle va aussi permettre à l'Office fédéral de la santé publique de vérifier que les réserves sont suffisantes et bien séparées entre les deux types d'assurances. Vous voyez donc que l'office et le Conseil fédéral ont toutes les cartes en mains pour pouvoir répondre à toutes les problématiques qui sont  exposées dans ce message, que ce soit par l'affinement de la compensation des risques, ou par la loi sur la surveillance de l'assurance-maladie.\n",
      "Voilà donc pourquoi la majorité de votre commission estime que tout ce qui est nécessaire a déjà fait l'objet d'un vote par le Parlement, et se demande à quoi cela sert d'imposer à trois assurances-maladie une séparation juridique si elles n'y ont pas pensé d'elles-mêmes puisque les bénéfices d'une telle loi sont de peu d'importance.\n",
      "Le Conseil des Etats n'est pas entré en matière sur ce projet, par 24 voix contre 17. Votre commission vous propose, par 15 voix contre 7, de ne pas entrer en matière sur ce projet dépassé.\n",
      "\n",
      "----\n"
     ]
    }
   ],
   "source": [
    "for idx, row in filtered_transcript.iloc[100:101].iterrows():\n",
    "    print(row['Text'])\n",
    "    print('----')"
   ]
  },
  {
   "cell_type": "code",
   "execution_count": 70,
   "id": "039eea45-9f79-4260-a165-ca4e728e6008",
   "metadata": {
    "tags": []
   },
   "outputs": [
    {
     "name": "stdout",
     "output_type": "stream",
     "text": [
      "<class 'pandas.core.frame.DataFrame'>\n",
      "Index: 324 entries, 5 to 1436\n",
      "Data columns (total 2 columns):\n",
      " #   Column  Non-Null Count  Dtype \n",
      "---  ------  --------------  ----- \n",
      " 0   ID      324 non-null    int64 \n",
      " 1   Text    324 non-null    object\n",
      "dtypes: int64(1), object(1)\n",
      "memory usage: 7.6+ KB\n"
     ]
    }
   ],
   "source": [
    "filtered_transcript.info()"
   ]
  },
  {
   "cell_type": "code",
   "execution_count": 124,
   "id": "094b7581-22d5-4a86-89c5-820871d52ea1",
   "metadata": {
    "tags": []
   },
   "outputs": [
    {
     "name": "stdout",
     "output_type": "stream",
     "text": [
      "{'etais', 'attendu', 'quelques', 'allaient', 'excepté', 'spécifiques', 'neanmoins', 'o', 'tout', 'meme', 'septième', 'â', 'restent', 'tenant', 'as', 'desquelles', 'ha', 'autrui', 'desquels', 'ont', 'sept', 'tels', 'toi-même', 'étaient', 'quarante', 'suis', 'permet', 'qui', 'déja', 'troisièmement', 'un', 'huitième', 'quiconque', 'puis', 'suffisante', 'et', 'soi', 'depuis', 'specifique', 'te', 'pourquoi', 'nos', 'bat', 'ci', 'vé', 'ceux-là', 'on', 'suivants', 'doivent', 'sinon', 'ainsi', 'devant', 'revoila', 'certes', 'avaient', 'hé', 'tienne', 'eu', 'surtout', 'certaine', 'chez', 'lès', 'suivant', 'voila', 'deja', 'soi-meme', 'durant', 'vu', 'effet', 'ceci', 'au', 'tien', 'celle', 'plutot', 'mien', 'environ', 'quelles', 'précisement', 'suit', 'dire', 'dont', 'merci', 'tu', 'deuxième', 'gens', 'miens', 'diverse', 'selon', 'seule', 'da', 'nous', 'ah', 'apres', 'après', 'anterieur', 'plus', 'm’', 'parlent', 'i', 'etc', 'pres', 'vous', 'hem', 'notre', 'quoique', 'facon', 'afin', 'aie', 'pour', 'soixante', 'ma', 'dessous', 'cinquantaine', 'debout', 'parfois', 'tend', 'plusieurs', 'bas', 'cinquante', 'soit', 'si', 'elle-meme', 'parmi', 'outre', 'vos', 'autres', 'dans', 'etant', 'maint', 'quinze', 'même', 'seul', 'quatrième', 'fédéral', 'lequel', 's’', 'troisième', 'mes', 'moi-même', 'parler', 'cent', 'cinq', 'dixième', 'dix-huit', 'cinquantième', 'quant-à-soi', 'rendre', 't’', 'elles', 'dits', 'aupres', 'sous', 'tes', 'peu', 'douze', 'suivantes', 'alors', 'laisser', 'eux', 'suisse', 'derrière', 'treize', 'entre', 'hue', 'semblaient', 'premier', 'lui', 'dehors', 'vôtre', 'que', 'pourrais', 'mêmes', \"l'\", 'être', 'moi', 'le', 'antérieures', 'quelle', 'sienne', 'seulement', 'moindres', 'projet', 'sent', 'avec', 'touchant', 'parle', 'avais', 'loi', 'mille', 'auraient', 'y', 'j’', 'celles-là', 'cinquième', 'soi-même', 'ces', 'ceux-ci', 'via', 'elles-memes', 'peut', 'ses', 'en', 'serait', 'jusqu', 'lesquelles', 'nous-mêmes', 'seize', 'avant', 'préalable', \"j'\", 'puisque', 'hep', 'je', 'ouverte', 'seraient', 'aussi', 'anterieure', 'quoi', 'faisaient', 'ton', 'cela', 'quant', \"n'\", 'relative', 'premièrement', 'chacune', 'auxquelles', 'certains', 'celle-ci', 'moi-meme', 'quels', 'votre', 'fait', 'ayant', 'unes', 'sans', 'chaque', 'dix-sept', 'autrement', 'personne', 'precisement', 'différent', 'relativement', 'quatre', 'seront', 'elle', 'donc', 'nouveau', 'huit', 'vais', 'miennes', 'quelconque', 'dès', 'compris', \"m'\", 'ou', 'nôtres', \"qu'\", 'assez', 'malgre', 'longtemps', 'deux', 'voilà', 'celui', 'basee', 'semblent', 'onzième', 'ils', 'tente', 'auxquels', 'celles-ci', 'dit', 'vont', 'ès', 'de', 'près', 'semblable', 'sait', 'chacun', 'c’', 'leur', 'pense', 'ô', 'aurait', 'désormais', 'sauf', 'auront', 'spécifique', 'suffit', 'ça', 'la', 'est', 'semble', 'té', 'à', 'commission', 'houp', 'toi-meme', 'ai', 'dedans', 'douzième', 'importe', 'il', 'na', 'qu’', 'dite', 'sera', 'pourrait', 'suivre', 'ouvert', 'façon', 'mon', 'certain', 'devers', 'proche', 'fais', 'les', 'lors', 'celle-là', 'là', 'très', 'aura', 'nôtre', 'lesquels', 'dix-neuf', 'tenir', 'juste', 'dix', 'ni', 'dejà', 'jusque', 'faisant', 'cet', 'celle-la', 'laquelle', 'anterieures', 'du', 'ho', \"c'\", 'cette', 'ne', 'diverses', 'différente', 'son', 'sont', 'rend', 'ait', 'duquel', 'était', 'directe', 'desormais', 'n’', 'tous', 'toute', 'vôtres', 'vas', 'etaient', 'nombreux', 'suffisant', 'nombreuses', 'uns', 'derriere', 'ce', 'ouste', 'onze', 'etait', 'maintenant', 'seuls', 'ceux', 'différents', 'trente', 'toi', 'siens', 'd’', 'aux', 'tellement', 'ouias', 'pu', 'siennes', 'ta', 'mienne', 'hi', 'stop', 'va', 'revoilà', 'sixième', 'vers', 'deuxièmement', 'notamment', '-t', 'etre', 'differente', 'revoici', 'telle', \"d'\", 'hors', 'a', 'telles', 'moins', 'tiennes', 'celles-la', 'des', 'auquel', 'specifiques', 'toujours', 'differentes', 'étant', 'devra', 'où', 'pas', 'certaines', 'sien', 'reste', 'avoir', 'seules', \"t'\", 'différentes', 'tant', 'conseil', 'plutôt', 'lorsque', 'quand', 'tel', 'enfin', 'autre', 'possibles', 'sa', 'avez', 'quatre-vingt', 'retour', 'or', 'eh', 'six', 'trois', 'tiens', 'nul', 'avons', 'doit', 'étais', 'se', 'quatrièmement', 'tres', 'hou', 'cependant', 'eux-mêmes', 'votres', 'toutes', 'pendant', 'celui-la', 'prealable', 'ouverts', 'lui-meme', 'malgré', 'memes', 'hui', 'quatorze', 'font', 'vingt', 'comment', 'exactement', 'antérieur', 'mais', 'celles', 'néanmoins', 'possible', 'quel', 'celui-ci', 'une', 'me', 'partant', 'quelque', 'restant', 'souvent', 'parce', 'elle-même', 'comme', 'directement', 'par', 'voici', 'suivante', 'divers', 'avait', 'celui-là', 'lui-même', \"quelqu'un\", 'egalement', 'vous-mêmes', 'envers', 'également', 'dessus', 'es', 'procedant', 'car', 'abord', 'pouvait', 'different', 'peux', 'encore', 'elles-mêmes', 'peuvent', 'déjà', 'feront', 'combien', 'concernant', 'hormis', 'neuvième', 'première', 'allons', 'l’', 'delà', 'leurs', 'differents', \"s'\", 'antérieure', 'sur'}\n"
     ]
    }
   ],
   "source": [
    "nlp = spacy.load(\"fr_core_news_sm\")\n",
    "lemmatizer = nlp.get_pipe(\"lemmatizer\")\n",
    "nlp.Defaults.stop_words |= {'-t', 'avez', 'conseil', 'commission', 'fédéral', 'suisse', 'être', 'loi', 'projet'}\n",
    "print(nlp.Defaults.stop_words)"
   ]
  },
  {
   "cell_type": "code",
   "execution_count": 131,
   "id": "501321a2-8fd9-4111-9eea-e74ebb251afe",
   "metadata": {
    "tags": []
   },
   "outputs": [
    {
     "name": "stdout",
     "output_type": "stream",
     "text": [
      "Avez-vous lu le message du Conseil fédéral sur ce sujet? Si c'est le cas, eh bien vous avez perdu votre temps! Pourquoi? Parce qu'il est complètement dépassé. A l'origine, ce message était prévu comme contre-projet indirect à l'initiative populaire \"pour une caisse publique d'assurance maladie\". Dans l'intervalle, beaucoup de choses ont été votées au sein de ce Parlement.\n",
      "Premier élément, la question de l'affinement de la compensation des risques. Nous avons voté sur ce sujet au Parlement lors de la dernière législature. Tout le volet concernant la compensation des risques de ce message est donc dépassé.\n",
      "Deuxième élément, la loi fédérale sur la surveillance de l'assurance-maladie sociale. Ici aussi, nous avons adopté au sein de ce Parlement cette loi qui entrera bientôt en vigueur. Si vous lisez la page 7140 du message, vous verrez que tous les problèmes pouvant survenir, notamment au niveau des coûts administratifs ou des subventionnements croisés, sont décrits. Vous pouvez donc aussi oublier ce passage, parce que la loi fédérale sur la surveillance de l'assurance-maladie sociale vous permet de résoudre ces problèmes.\n",
      "Il reste un seul point dans ce message, la question de la séparation juridique entre l'assurance-maladie de base et les assurances complémentaires. Ce point peut être examiné selon deux visions différentes. Premièrement, on peut estimer qu'il faut entre l'assurance-maladie de base et les assurances complémentaires une véritable muraille de Chine. Que veut dire cela? Cela veut dire des factures séparées, des courriers séparés, un système informatique séparé. Eh bien, cela a un coût, soit 400 millions de francs - 200 millions de part et d'autre. Ceci ressort des auditions qui ont eu lieu au sein de la Commission de la sécurité sociale et de la santé publique du Conseil des Etats. La majorité de votre commission estime que, pour un tel coût, cela n'en vaut pas la peine, et que le fait de créer une telle muraille de Chine n'apporte rien.\n",
      "Il reste la question de la pure séparation juridique, c'est-à-dire du fait de demander qu'il y ait deux entités juridiques distinctes: une pour l'assurance de base et une pour l'assurance complémentaire. Là, figurez-vous que la majorité des assurances-maladie procèdent déjà ainsi. Seules quatorze assurances-maladie ne le font pas. Parmi ces quatorze, les trois plus importantes sont Swica, Vivao Sympany et Atupri - les autres sont plus petites. Toutes les autres grandes caisses-maladie ont, elles, déjà une séparation juridique entre l'assurance de base et l'assurance complémentaire.\n",
      "Alors que se passe-t-il pour ces quatorze assurances-maladie? Il y a déjà l'obligation de tenir une comptabilité séparée. Comme je vous l'ai dit, la loi sur la surveillance de l'assurance-maladie va permettre de s'assurer qu'il n'y a pas de subventionnement croisé entre ces deux assurances, et elle va aussi permettre à l'Office fédéral de la santé publique de vérifier que les réserves sont suffisantes et bien séparées entre les deux types d'assurances. Vous voyez donc que l'office et le Conseil fédéral ont toutes les cartes en mains pour pouvoir répondre à toutes les problématiques qui sont  exposées dans ce message, que ce soit par l'affinement de la compensation des risques, ou par la loi sur la surveillance de l'assurance-maladie.\n",
      "Voilà donc pourquoi la majorité de votre commission estime que tout ce qui est nécessaire a déjà fait l'objet d'un vote par le Parlement, et se demande à quoi cela sert d'imposer à trois assurances-maladie une séparation juridique si elles n'y ont pas pensé d'elles-mêmes puisque les bénéfices d'une telle loi sont de peu d'importance.\n",
      "Le Conseil des Etats n'est pas entré en matière sur ce projet, par 24 voix contre 17. Votre commission vous propose, par 15 voix contre 7, de ne pas entrer en matière sur ce projet dépassé.\n",
      "\n",
      "---\n"
     ]
    },
    {
     "data": {
      "text/plain": [
       "'vous lire message sujet cas bien perdre temps complètement dépasser origine message prévoir contre-projet indirect initiative populaire caisse public assurance maladie intervalle beaucoup chose être voter sein parlement élément question affinement compensation risque voter sujet parlement dernier législature volet compensation risque message dépasser élément fédéral surveillance assurance maladie social ici adopter sein parlement entrer bientôt vigueur lire page 7140 message voir problème pouvoir survenir niveau coût administratif subventionnement croiser décrire pouvoir oublier passage fédéral surveillance assurance maladie social résoudre problème point message question séparation juridique assurance maladie base assurance complémentaire point examiner vision estimer falloir assurance maladie base assurance complémentaire véritable muraill Chine vouloir vouloir facture séparer courrier séparer système informatique séparer bien coût 400 million franc 200 million part ressortir audition lieu sein sécurité social santé public etat majorité estime coût valoir peine créer muraill Chine apporter rien question pur séparation juridique demander entité juridique distincte assurance base assurance complémentaire figurer vous majorité assurance maladie procéder assurance maladie important Swica vivao Sympany Atupri petit grand caisse maladie séparation juridique assurance base assurance complémentaire passer il assurance maladie obligation comptabilité séparer surveillance assurance maladie permettre assurer subventionnement croiser assurance permettre Office santé public vérifier réserve suffisant bien séparer type assurance voir office carte main pouvoir répondre problématique exposer message affinement compensation risque surveillance assurance maladie majorité estime nécessaire objet vote parlement demande sert imposer assurance maladie séparation juridique penser bénéfice importance etat entrer matière 24 voix contre 17 proposer 15 voix contre 7 entrer matière dépassé'"
      ]
     },
     "execution_count": 131,
     "metadata": {},
     "output_type": "execute_result"
    }
   ],
   "source": [
    "text = filtered_transcript.iloc[100]['Text']\n",
    "print(text)\n",
    "print('---')\n",
    "\n",
    "doc = nlp(text)\n",
    "lemma_list = [token.lemma_ for token in doc if not any([token.is_stop, token.is_punct, token.is_space])]\n",
    "' '.join(lemma_list)"
   ]
  },
  {
   "cell_type": "code",
   "execution_count": 31,
   "id": "67880ea9-916c-476c-b20b-3d54762aa9b8",
   "metadata": {
    "tags": []
   },
   "outputs": [
    {
     "name": "stdout",
     "output_type": "stream",
     "text": [
      "There are 157 default stopwords. They are ['au', 'aux', 'avec', 'ce', 'ces', 'dans', 'de', 'des', 'du', 'elle', 'en', 'et', 'eux', 'il', 'ils', 'je', 'la', 'le', 'les', 'leur', 'lui', 'ma', 'mais', 'me', 'même', 'mes', 'moi', 'mon', 'ne', 'nos', 'notre', 'nous', 'on', 'ou', 'par', 'pas', 'pour', 'qu', 'que', 'qui', 'sa', 'se', 'ses', 'son', 'sur', 'ta', 'te', 'tes', 'toi', 'ton', 'tu', 'un', 'une', 'vos', 'votre', 'vous', 'c', 'd', 'j', 'l', 'à', 'm', 'n', 's', 't', 'y', 'été', 'étée', 'étées', 'étés', 'étant', 'étante', 'étants', 'étantes', 'suis', 'es', 'est', 'sommes', 'êtes', 'sont', 'serai', 'seras', 'sera', 'serons', 'serez', 'seront', 'serais', 'serait', 'serions', 'seriez', 'seraient', 'étais', 'était', 'étions', 'étiez', 'étaient', 'fus', 'fut', 'fûmes', 'fûtes', 'furent', 'sois', 'soit', 'soyons', 'soyez', 'soient', 'fusse', 'fusses', 'fût', 'fussions', 'fussiez', 'fussent', 'ayant', 'ayante', 'ayantes', 'ayants', 'eu', 'eue', 'eues', 'eus', 'ai', 'as', 'avons', 'avez', 'ont', 'aurai', 'auras', 'aura', 'aurons', 'aurez', 'auront', 'aurais', 'aurait', 'aurions', 'auriez', 'auraient', 'avais', 'avait', 'avions', 'aviez', 'avaient', 'eut', 'eûmes', 'eûtes', 'eurent', 'aie', 'aies', 'ait', 'ayons', 'ayez', 'aient', 'eusse', 'eusses', 'eût', 'eussions', 'eussiez', 'eussent']\n"
     ]
    }
   ],
   "source": [
    "# Remove stopwords\n",
    "stopwords = nltk.corpus.stopwords.words('french')\n",
    "print(f'There are {len(stopwords)} default stopwords. They are {stopwords}')"
   ]
  },
  {
   "cell_type": "code",
   "execution_count": 125,
   "id": "5c8b9cf8-e3d9-4cb9-a2af-c577a4a5da23",
   "metadata": {
    "tags": []
   },
   "outputs": [
    {
     "data": {
      "text/html": [
       "<div>\n",
       "<style scoped>\n",
       "    .dataframe tbody tr th:only-of-type {\n",
       "        vertical-align: middle;\n",
       "    }\n",
       "\n",
       "    .dataframe tbody tr th {\n",
       "        vertical-align: top;\n",
       "    }\n",
       "\n",
       "    .dataframe thead th {\n",
       "        text-align: right;\n",
       "    }\n",
       "</style>\n",
       "<table border=\"1\" class=\"dataframe\">\n",
       "  <thead>\n",
       "    <tr style=\"text-align: right;\">\n",
       "      <th></th>\n",
       "      <th>ID</th>\n",
       "      <th>Text</th>\n",
       "      <th>text_lemmatized</th>\n",
       "    </tr>\n",
       "  </thead>\n",
       "  <tbody>\n",
       "    <tr>\n",
       "      <th>5</th>\n",
       "      <td>191151</td>\n",
       "      <td>Vous avez reçu le rapport du Conseil fédéral s...</td>\n",
       "      <td>recevoir rapport élection national rapport bur...</td>\n",
       "    </tr>\n",
       "    <tr>\n",
       "      <th>9</th>\n",
       "      <td>191158</td>\n",
       "      <td>Pour adopter les décisions et formuler les pro...</td>\n",
       "      <td>adopter décision formuler proposition figurer ...</td>\n",
       "    </tr>\n",
       "    <tr>\n",
       "      <th>18</th>\n",
       "      <td>191267</td>\n",
       "      <td>Vous vous souvenez que le groupe UDC recommand...</td>\n",
       "      <td>souvenir groupe UDC recommander entrer matière...</td>\n",
       "    </tr>\n",
       "    <tr>\n",
       "      <th>21</th>\n",
       "      <td>191199</td>\n",
       "      <td>Dans ce dossier, nous sommes maintenant à bout...</td>\n",
       "      <td>dossier être bout nouvellement élu possibilité...</td>\n",
       "    </tr>\n",
       "    <tr>\n",
       "      <th>28</th>\n",
       "      <td>191226</td>\n",
       "      <td>On peut rester relativement calme sur ce sujet...</td>\n",
       "      <td>rester calme sujet contrairement passer dernie...</td>\n",
       "    </tr>\n",
       "    <tr>\n",
       "      <th>...</th>\n",
       "      <td>...</td>\n",
       "      <td>...</td>\n",
       "      <td>...</td>\n",
       "    </tr>\n",
       "    <tr>\n",
       "      <th>1426</th>\n",
       "      <td>193850</td>\n",
       "      <td>Madame Bruderer Wyss, je peux en effet confirm...</td>\n",
       "      <td>monsieur Bruderer Wyss confirmer figurer répon...</td>\n",
       "    </tr>\n",
       "    <tr>\n",
       "      <th>1428</th>\n",
       "      <td>193899</td>\n",
       "      <td>Le but de mon interpellation n'est pas d'ajout...</td>\n",
       "      <td>but interpellation ajouter ligne liste long in...</td>\n",
       "    </tr>\n",
       "    <tr>\n",
       "      <th>1430</th>\n",
       "      <td>193929</td>\n",
       "      <td>En préambule, j'aimerais saluer l'interpellati...</td>\n",
       "      <td>préambule aimer saluer interpellation collègue...</td>\n",
       "    </tr>\n",
       "    <tr>\n",
       "      <th>1432</th>\n",
       "      <td>193855</td>\n",
       "      <td>L'apprentissage des langues est une question q...</td>\n",
       "      <td>apprentissage langue question revenir régulièr...</td>\n",
       "    </tr>\n",
       "    <tr>\n",
       "      <th>1436</th>\n",
       "      <td>193940</td>\n",
       "      <td>Ce postulat a été déposé au mois de juin 2015....</td>\n",
       "      <td>postulat être déposer mois juin 2015 devoir tr...</td>\n",
       "    </tr>\n",
       "  </tbody>\n",
       "</table>\n",
       "<p>324 rows × 3 columns</p>\n",
       "</div>"
      ],
      "text/plain": [
       "          ID                                               Text   \n",
       "5     191151  Vous avez reçu le rapport du Conseil fédéral s...  \\\n",
       "9     191158  Pour adopter les décisions et formuler les pro...   \n",
       "18    191267  Vous vous souvenez que le groupe UDC recommand...   \n",
       "21    191199  Dans ce dossier, nous sommes maintenant à bout...   \n",
       "28    191226  On peut rester relativement calme sur ce sujet...   \n",
       "...      ...                                                ...   \n",
       "1426  193850  Madame Bruderer Wyss, je peux en effet confirm...   \n",
       "1428  193899  Le but de mon interpellation n'est pas d'ajout...   \n",
       "1430  193929  En préambule, j'aimerais saluer l'interpellati...   \n",
       "1432  193855  L'apprentissage des langues est une question q...   \n",
       "1436  193940  Ce postulat a été déposé au mois de juin 2015....   \n",
       "\n",
       "                                        text_lemmatized  \n",
       "5     recevoir rapport élection national rapport bur...  \n",
       "9     adopter décision formuler proposition figurer ...  \n",
       "18    souvenir groupe UDC recommander entrer matière...  \n",
       "21    dossier être bout nouvellement élu possibilité...  \n",
       "28    rester calme sujet contrairement passer dernie...  \n",
       "...                                                 ...  \n",
       "1426  monsieur Bruderer Wyss confirmer figurer répon...  \n",
       "1428  but interpellation ajouter ligne liste long in...  \n",
       "1430  préambule aimer saluer interpellation collègue...  \n",
       "1432  apprentissage langue question revenir régulièr...  \n",
       "1436  postulat être déposer mois juin 2015 devoir tr...  \n",
       "\n",
       "[324 rows x 3 columns]"
      ]
     },
     "execution_count": 125,
     "metadata": {},
     "output_type": "execute_result"
    }
   ],
   "source": [
    "# remove stopwords, punctuation and then lemmatize\n",
    "filtered_transcript['text_lemmatized'] = filtered_transcript['Text'].apply(\n",
    "    lambda x: ' '.join([token.lemma_ for token in nlp(x) if not any([token.is_stop, token.is_punct, token.is_space])])\n",
    ")\n",
    "# Take a look at the data\n",
    "filtered_transcript"
   ]
  },
  {
   "cell_type": "code",
   "execution_count": 132,
   "id": "399bc7a6-0371-4430-8fc1-17d02eaafda8",
   "metadata": {
    "tags": []
   },
   "outputs": [
    {
     "name": "stderr",
     "output_type": "stream",
     "text": [
      "2023-05-11 17:07:59,357 - BERTopic - Transformed documents to Embeddings\n",
      "2023-05-11 17:08:00,162 - BERTopic - Reduced dimensionality\n",
      "2023-05-11 17:08:00,174 - BERTopic - Clustered reduced embeddings\n"
     ]
    }
   ],
   "source": [
    "# Initiate UMAP\n",
    "umap_model = UMAP(\n",
    "    n_neighbors=15, \n",
    "    n_components=10, \n",
    "    min_dist=0.0, \n",
    "    metric='cosine', \n",
    "    random_state=100,\n",
    ")\n",
    "\n",
    "# Initiate BERTopic\n",
    "topic_model = BERTopic(language=\"french\", umap_model=umap_model, calculate_probabilities=True)\n",
    "\n",
    "# Run BERTopic model\n",
    "docs = filtered_transcript['text_lemmatized'].to_list()\n",
    "topics, probabilities = topic_model.fit_transform(docs)"
   ]
  },
  {
   "cell_type": "code",
   "execution_count": 133,
   "id": "4454bff1-b95a-4dc8-9d2e-b59706d1f8b0",
   "metadata": {
    "tags": []
   },
   "outputs": [
    {
     "data": {
      "text/html": [
       "<div>\n",
       "<style scoped>\n",
       "    .dataframe tbody tr th:only-of-type {\n",
       "        vertical-align: middle;\n",
       "    }\n",
       "\n",
       "    .dataframe tbody tr th {\n",
       "        vertical-align: top;\n",
       "    }\n",
       "\n",
       "    .dataframe thead th {\n",
       "        text-align: right;\n",
       "    }\n",
       "</style>\n",
       "<table border=\"1\" class=\"dataframe\">\n",
       "  <thead>\n",
       "    <tr style=\"text-align: right;\">\n",
       "      <th></th>\n",
       "      <th>Topic</th>\n",
       "      <th>Count</th>\n",
       "      <th>Name</th>\n",
       "    </tr>\n",
       "  </thead>\n",
       "  <tbody>\n",
       "    <tr>\n",
       "      <th>0</th>\n",
       "      <td>-1</td>\n",
       "      <td>117</td>\n",
       "      <td>-1_être_initiative_faire_question</td>\n",
       "    </tr>\n",
       "    <tr>\n",
       "      <th>1</th>\n",
       "      <td>0</td>\n",
       "      <td>58</td>\n",
       "      <td>0_franc_budget_million_proposition</td>\n",
       "    </tr>\n",
       "    <tr>\n",
       "      <th>2</th>\n",
       "      <td>1</td>\n",
       "      <td>33</td>\n",
       "      <td>1_rente_av_avs_pilier</td>\n",
       "    </tr>\n",
       "    <tr>\n",
       "      <th>3</th>\n",
       "      <td>2</td>\n",
       "      <td>31</td>\n",
       "      <td>2_armée_service_di_frontière</td>\n",
       "    </tr>\n",
       "    <tr>\n",
       "      <th>4</th>\n",
       "      <td>3</td>\n",
       "      <td>30</td>\n",
       "      <td>3_cas_être_public_droit</td>\n",
       "    </tr>\n",
       "    <tr>\n",
       "      <th>5</th>\n",
       "      <td>4</td>\n",
       "      <td>29</td>\n",
       "      <td>4_canton_être_langue_national</td>\n",
       "    </tr>\n",
       "    <tr>\n",
       "      <th>6</th>\n",
       "      <td>5</td>\n",
       "      <td>26</td>\n",
       "      <td>5_patient_médecin_maladie_médicament</td>\n",
       "    </tr>\n",
       "  </tbody>\n",
       "</table>\n",
       "</div>"
      ],
      "text/plain": [
       "   Topic  Count                                  Name\n",
       "0     -1    117     -1_être_initiative_faire_question\n",
       "1      0     58    0_franc_budget_million_proposition\n",
       "2      1     33                 1_rente_av_avs_pilier\n",
       "3      2     31          2_armée_service_di_frontière\n",
       "4      3     30               3_cas_être_public_droit\n",
       "5      4     29         4_canton_être_langue_national\n",
       "6      5     26  5_patient_médecin_maladie_médicament"
      ]
     },
     "execution_count": 133,
     "metadata": {},
     "output_type": "execute_result"
    }
   ],
   "source": [
    "topic_model.get_topic_info()"
   ]
  },
  {
   "cell_type": "code",
   "execution_count": 128,
   "id": "ebd48dbb-d7d7-4fd7-badc-a3074eb47359",
   "metadata": {
    "tags": []
   },
   "outputs": [
    {
     "data": {
      "text/plain": [
       "Document                   vous lire message sujet cas bien perdre temps ...\n",
       "Topic                                                                      3\n",
       "Name                                              3_cas_être_public_question\n",
       "Top_n_words                cas - être - public - question - assurance - p...\n",
       "Probability                                                         0.224398\n",
       "Representative_document                                                False\n",
       "Name: 100, dtype: object"
      ]
     },
     "execution_count": 128,
     "metadata": {},
     "output_type": "execute_result"
    }
   ],
   "source": [
    "# Get the list of topics\n",
    "#topic_model.get_topic(4)\n",
    "topic_model.get_document_info(docs).iloc[100]"
   ]
  },
  {
   "cell_type": "code",
   "execution_count": 119,
   "id": "fffe0bb3-6ac5-4c11-9c20-0acde521cce4",
   "metadata": {
    "tags": []
   },
   "outputs": [
    {
     "data": {
      "application/vnd.plotly.v1+json": {
       "config": {
        "plotlyServerURL": "https://plot.ly"
       },
       "data": [
        {
         "marker": {
          "color": "#D55E00"
         },
         "orientation": "h",
         "type": "bar",
         "x": [
          0.03715913665065035,
          0.0398525671761,
          0.062470842860224966,
          0.062492770739728185,
          0.07043157109897992
         ],
         "xaxis": "x",
         "y": [
          "dépense  ",
          "proposition  ",
          "million  ",
          "budget  ",
          "franc  "
         ],
         "yaxis": "y"
        },
        {
         "marker": {
          "color": "#0072B2"
         },
         "orientation": "h",
         "type": "bar",
         "x": [
          0.030461182272933006,
          0.03283670840510709,
          0.0330987606736811,
          0.03581741267253086,
          0.0652157619553017
         ],
         "xaxis": "x2",
         "y": [
          "question  ",
          "initiative  ",
          "être  ",
          "suisse  ",
          "canton  "
         ],
         "yaxis": "y2"
        },
        {
         "marker": {
          "color": "#CC79A7"
         },
         "orientation": "h",
         "type": "bar",
         "x": [
          0.04754422424828203,
          0.05240230888858334,
          0.05717959998423637,
          0.06940709927008874,
          0.0836077632410701
         ],
         "xaxis": "x3",
         "y": [
          "initiative  ",
          "pilier  ",
          "avs  ",
          "av  ",
          "rente  "
         ],
         "yaxis": "y3"
        },
        {
         "marker": {
          "color": "#E69F00"
         },
         "orientation": "h",
         "type": "bar",
         "x": [
          0.029155871786392982,
          0.03044076351053665,
          0.03282816900166436,
          0.040438582679283894,
          0.041966055148184044
         ],
         "xaxis": "x4",
         "y": [
          "santé  ",
          "article  ",
          "maladie  ",
          "médecin  ",
          "patient  "
         ],
         "yaxis": "y4"
        },
        {
         "marker": {
          "color": "#56B4E9"
         },
         "orientation": "h",
         "type": "bar",
         "x": [
          0.027327150703332227,
          0.028450168918923283,
          0.028524489852662007,
          0.03127120230921087,
          0.032749553020055076
         ],
         "xaxis": "x5",
         "y": [
          "droit  ",
          "loi  ",
          "cas  ",
          "être  ",
          "parlementaire  "
         ],
         "yaxis": "y5"
        },
        {
         "marker": {
          "color": "#009E73"
         },
         "orientation": "h",
         "type": "bar",
         "x": [
          0.0373745141111973,
          0.04011756792165091,
          0.042114459672242366,
          0.05313714552773753,
          0.05988435945942062
         ],
         "xaxis": "x6",
         "y": [
          "être  ",
          "service  ",
          "motion  ",
          "débat  ",
          "public  "
         ],
         "yaxis": "y6"
        },
        {
         "marker": {
          "color": "#F0E442"
         },
         "orientation": "h",
         "type": "bar",
         "x": [
          0.030597528742632784,
          0.03621569502933592,
          0.04480501422266681,
          0.046161648946762994,
          0.06216563253369614
         ],
         "xaxis": "x7",
         "y": [
          "agricole  ",
          "ressource  ",
          "initiative  ",
          "économie  ",
          "suisse  "
         ],
         "yaxis": "y7"
        }
       ],
       "layout": {
        "annotations": [
         {
          "font": {
           "size": 16
          },
          "showarrow": false,
          "text": "Topic 0",
          "x": 0.0875,
          "xanchor": "center",
          "xref": "paper",
          "y": 1,
          "yanchor": "bottom",
          "yref": "paper"
         },
         {
          "font": {
           "size": 16
          },
          "showarrow": false,
          "text": "Topic 1",
          "x": 0.36250000000000004,
          "xanchor": "center",
          "xref": "paper",
          "y": 1,
          "yanchor": "bottom",
          "yref": "paper"
         },
         {
          "font": {
           "size": 16
          },
          "showarrow": false,
          "text": "Topic 2",
          "x": 0.6375000000000001,
          "xanchor": "center",
          "xref": "paper",
          "y": 1,
          "yanchor": "bottom",
          "yref": "paper"
         },
         {
          "font": {
           "size": 16
          },
          "showarrow": false,
          "text": "Topic 3",
          "x": 0.9125,
          "xanchor": "center",
          "xref": "paper",
          "y": 1,
          "yanchor": "bottom",
          "yref": "paper"
         },
         {
          "font": {
           "size": 16
          },
          "showarrow": false,
          "text": "Topic 4",
          "x": 0.0875,
          "xanchor": "center",
          "xref": "paper",
          "y": 0.4,
          "yanchor": "bottom",
          "yref": "paper"
         },
         {
          "font": {
           "size": 16
          },
          "showarrow": false,
          "text": "Topic 5",
          "x": 0.36250000000000004,
          "xanchor": "center",
          "xref": "paper",
          "y": 0.4,
          "yanchor": "bottom",
          "yref": "paper"
         },
         {
          "font": {
           "size": 16
          },
          "showarrow": false,
          "text": "Topic 6",
          "x": 0.6375000000000001,
          "xanchor": "center",
          "xref": "paper",
          "y": 0.4,
          "yanchor": "bottom",
          "yref": "paper"
         }
        ],
        "height": 500,
        "hoverlabel": {
         "bgcolor": "white",
         "font": {
          "family": "Rockwell",
          "size": 16
         }
        },
        "showlegend": false,
        "template": {
         "data": {
          "bar": [
           {
            "error_x": {
             "color": "#2a3f5f"
            },
            "error_y": {
             "color": "#2a3f5f"
            },
            "marker": {
             "line": {
              "color": "white",
              "width": 0.5
             },
             "pattern": {
              "fillmode": "overlay",
              "size": 10,
              "solidity": 0.2
             }
            },
            "type": "bar"
           }
          ],
          "barpolar": [
           {
            "marker": {
             "line": {
              "color": "white",
              "width": 0.5
             },
             "pattern": {
              "fillmode": "overlay",
              "size": 10,
              "solidity": 0.2
             }
            },
            "type": "barpolar"
           }
          ],
          "carpet": [
           {
            "aaxis": {
             "endlinecolor": "#2a3f5f",
             "gridcolor": "#C8D4E3",
             "linecolor": "#C8D4E3",
             "minorgridcolor": "#C8D4E3",
             "startlinecolor": "#2a3f5f"
            },
            "baxis": {
             "endlinecolor": "#2a3f5f",
             "gridcolor": "#C8D4E3",
             "linecolor": "#C8D4E3",
             "minorgridcolor": "#C8D4E3",
             "startlinecolor": "#2a3f5f"
            },
            "type": "carpet"
           }
          ],
          "choropleth": [
           {
            "colorbar": {
             "outlinewidth": 0,
             "ticks": ""
            },
            "type": "choropleth"
           }
          ],
          "contour": [
           {
            "colorbar": {
             "outlinewidth": 0,
             "ticks": ""
            },
            "colorscale": [
             [
              0,
              "#0d0887"
             ],
             [
              0.1111111111111111,
              "#46039f"
             ],
             [
              0.2222222222222222,
              "#7201a8"
             ],
             [
              0.3333333333333333,
              "#9c179e"
             ],
             [
              0.4444444444444444,
              "#bd3786"
             ],
             [
              0.5555555555555556,
              "#d8576b"
             ],
             [
              0.6666666666666666,
              "#ed7953"
             ],
             [
              0.7777777777777778,
              "#fb9f3a"
             ],
             [
              0.8888888888888888,
              "#fdca26"
             ],
             [
              1,
              "#f0f921"
             ]
            ],
            "type": "contour"
           }
          ],
          "contourcarpet": [
           {
            "colorbar": {
             "outlinewidth": 0,
             "ticks": ""
            },
            "type": "contourcarpet"
           }
          ],
          "heatmap": [
           {
            "colorbar": {
             "outlinewidth": 0,
             "ticks": ""
            },
            "colorscale": [
             [
              0,
              "#0d0887"
             ],
             [
              0.1111111111111111,
              "#46039f"
             ],
             [
              0.2222222222222222,
              "#7201a8"
             ],
             [
              0.3333333333333333,
              "#9c179e"
             ],
             [
              0.4444444444444444,
              "#bd3786"
             ],
             [
              0.5555555555555556,
              "#d8576b"
             ],
             [
              0.6666666666666666,
              "#ed7953"
             ],
             [
              0.7777777777777778,
              "#fb9f3a"
             ],
             [
              0.8888888888888888,
              "#fdca26"
             ],
             [
              1,
              "#f0f921"
             ]
            ],
            "type": "heatmap"
           }
          ],
          "heatmapgl": [
           {
            "colorbar": {
             "outlinewidth": 0,
             "ticks": ""
            },
            "colorscale": [
             [
              0,
              "#0d0887"
             ],
             [
              0.1111111111111111,
              "#46039f"
             ],
             [
              0.2222222222222222,
              "#7201a8"
             ],
             [
              0.3333333333333333,
              "#9c179e"
             ],
             [
              0.4444444444444444,
              "#bd3786"
             ],
             [
              0.5555555555555556,
              "#d8576b"
             ],
             [
              0.6666666666666666,
              "#ed7953"
             ],
             [
              0.7777777777777778,
              "#fb9f3a"
             ],
             [
              0.8888888888888888,
              "#fdca26"
             ],
             [
              1,
              "#f0f921"
             ]
            ],
            "type": "heatmapgl"
           }
          ],
          "histogram": [
           {
            "marker": {
             "pattern": {
              "fillmode": "overlay",
              "size": 10,
              "solidity": 0.2
             }
            },
            "type": "histogram"
           }
          ],
          "histogram2d": [
           {
            "colorbar": {
             "outlinewidth": 0,
             "ticks": ""
            },
            "colorscale": [
             [
              0,
              "#0d0887"
             ],
             [
              0.1111111111111111,
              "#46039f"
             ],
             [
              0.2222222222222222,
              "#7201a8"
             ],
             [
              0.3333333333333333,
              "#9c179e"
             ],
             [
              0.4444444444444444,
              "#bd3786"
             ],
             [
              0.5555555555555556,
              "#d8576b"
             ],
             [
              0.6666666666666666,
              "#ed7953"
             ],
             [
              0.7777777777777778,
              "#fb9f3a"
             ],
             [
              0.8888888888888888,
              "#fdca26"
             ],
             [
              1,
              "#f0f921"
             ]
            ],
            "type": "histogram2d"
           }
          ],
          "histogram2dcontour": [
           {
            "colorbar": {
             "outlinewidth": 0,
             "ticks": ""
            },
            "colorscale": [
             [
              0,
              "#0d0887"
             ],
             [
              0.1111111111111111,
              "#46039f"
             ],
             [
              0.2222222222222222,
              "#7201a8"
             ],
             [
              0.3333333333333333,
              "#9c179e"
             ],
             [
              0.4444444444444444,
              "#bd3786"
             ],
             [
              0.5555555555555556,
              "#d8576b"
             ],
             [
              0.6666666666666666,
              "#ed7953"
             ],
             [
              0.7777777777777778,
              "#fb9f3a"
             ],
             [
              0.8888888888888888,
              "#fdca26"
             ],
             [
              1,
              "#f0f921"
             ]
            ],
            "type": "histogram2dcontour"
           }
          ],
          "mesh3d": [
           {
            "colorbar": {
             "outlinewidth": 0,
             "ticks": ""
            },
            "type": "mesh3d"
           }
          ],
          "parcoords": [
           {
            "line": {
             "colorbar": {
              "outlinewidth": 0,
              "ticks": ""
             }
            },
            "type": "parcoords"
           }
          ],
          "pie": [
           {
            "automargin": true,
            "type": "pie"
           }
          ],
          "scatter": [
           {
            "fillpattern": {
             "fillmode": "overlay",
             "size": 10,
             "solidity": 0.2
            },
            "type": "scatter"
           }
          ],
          "scatter3d": [
           {
            "line": {
             "colorbar": {
              "outlinewidth": 0,
              "ticks": ""
             }
            },
            "marker": {
             "colorbar": {
              "outlinewidth": 0,
              "ticks": ""
             }
            },
            "type": "scatter3d"
           }
          ],
          "scattercarpet": [
           {
            "marker": {
             "colorbar": {
              "outlinewidth": 0,
              "ticks": ""
             }
            },
            "type": "scattercarpet"
           }
          ],
          "scattergeo": [
           {
            "marker": {
             "colorbar": {
              "outlinewidth": 0,
              "ticks": ""
             }
            },
            "type": "scattergeo"
           }
          ],
          "scattergl": [
           {
            "marker": {
             "colorbar": {
              "outlinewidth": 0,
              "ticks": ""
             }
            },
            "type": "scattergl"
           }
          ],
          "scattermapbox": [
           {
            "marker": {
             "colorbar": {
              "outlinewidth": 0,
              "ticks": ""
             }
            },
            "type": "scattermapbox"
           }
          ],
          "scatterpolar": [
           {
            "marker": {
             "colorbar": {
              "outlinewidth": 0,
              "ticks": ""
             }
            },
            "type": "scatterpolar"
           }
          ],
          "scatterpolargl": [
           {
            "marker": {
             "colorbar": {
              "outlinewidth": 0,
              "ticks": ""
             }
            },
            "type": "scatterpolargl"
           }
          ],
          "scatterternary": [
           {
            "marker": {
             "colorbar": {
              "outlinewidth": 0,
              "ticks": ""
             }
            },
            "type": "scatterternary"
           }
          ],
          "surface": [
           {
            "colorbar": {
             "outlinewidth": 0,
             "ticks": ""
            },
            "colorscale": [
             [
              0,
              "#0d0887"
             ],
             [
              0.1111111111111111,
              "#46039f"
             ],
             [
              0.2222222222222222,
              "#7201a8"
             ],
             [
              0.3333333333333333,
              "#9c179e"
             ],
             [
              0.4444444444444444,
              "#bd3786"
             ],
             [
              0.5555555555555556,
              "#d8576b"
             ],
             [
              0.6666666666666666,
              "#ed7953"
             ],
             [
              0.7777777777777778,
              "#fb9f3a"
             ],
             [
              0.8888888888888888,
              "#fdca26"
             ],
             [
              1,
              "#f0f921"
             ]
            ],
            "type": "surface"
           }
          ],
          "table": [
           {
            "cells": {
             "fill": {
              "color": "#EBF0F8"
             },
             "line": {
              "color": "white"
             }
            },
            "header": {
             "fill": {
              "color": "#C8D4E3"
             },
             "line": {
              "color": "white"
             }
            },
            "type": "table"
           }
          ]
         },
         "layout": {
          "annotationdefaults": {
           "arrowcolor": "#2a3f5f",
           "arrowhead": 0,
           "arrowwidth": 1
          },
          "autotypenumbers": "strict",
          "coloraxis": {
           "colorbar": {
            "outlinewidth": 0,
            "ticks": ""
           }
          },
          "colorscale": {
           "diverging": [
            [
             0,
             "#8e0152"
            ],
            [
             0.1,
             "#c51b7d"
            ],
            [
             0.2,
             "#de77ae"
            ],
            [
             0.3,
             "#f1b6da"
            ],
            [
             0.4,
             "#fde0ef"
            ],
            [
             0.5,
             "#f7f7f7"
            ],
            [
             0.6,
             "#e6f5d0"
            ],
            [
             0.7,
             "#b8e186"
            ],
            [
             0.8,
             "#7fbc41"
            ],
            [
             0.9,
             "#4d9221"
            ],
            [
             1,
             "#276419"
            ]
           ],
           "sequential": [
            [
             0,
             "#0d0887"
            ],
            [
             0.1111111111111111,
             "#46039f"
            ],
            [
             0.2222222222222222,
             "#7201a8"
            ],
            [
             0.3333333333333333,
             "#9c179e"
            ],
            [
             0.4444444444444444,
             "#bd3786"
            ],
            [
             0.5555555555555556,
             "#d8576b"
            ],
            [
             0.6666666666666666,
             "#ed7953"
            ],
            [
             0.7777777777777778,
             "#fb9f3a"
            ],
            [
             0.8888888888888888,
             "#fdca26"
            ],
            [
             1,
             "#f0f921"
            ]
           ],
           "sequentialminus": [
            [
             0,
             "#0d0887"
            ],
            [
             0.1111111111111111,
             "#46039f"
            ],
            [
             0.2222222222222222,
             "#7201a8"
            ],
            [
             0.3333333333333333,
             "#9c179e"
            ],
            [
             0.4444444444444444,
             "#bd3786"
            ],
            [
             0.5555555555555556,
             "#d8576b"
            ],
            [
             0.6666666666666666,
             "#ed7953"
            ],
            [
             0.7777777777777778,
             "#fb9f3a"
            ],
            [
             0.8888888888888888,
             "#fdca26"
            ],
            [
             1,
             "#f0f921"
            ]
           ]
          },
          "colorway": [
           "#636efa",
           "#EF553B",
           "#00cc96",
           "#ab63fa",
           "#FFA15A",
           "#19d3f3",
           "#FF6692",
           "#B6E880",
           "#FF97FF",
           "#FECB52"
          ],
          "font": {
           "color": "#2a3f5f"
          },
          "geo": {
           "bgcolor": "white",
           "lakecolor": "white",
           "landcolor": "white",
           "showlakes": true,
           "showland": true,
           "subunitcolor": "#C8D4E3"
          },
          "hoverlabel": {
           "align": "left"
          },
          "hovermode": "closest",
          "mapbox": {
           "style": "light"
          },
          "paper_bgcolor": "white",
          "plot_bgcolor": "white",
          "polar": {
           "angularaxis": {
            "gridcolor": "#EBF0F8",
            "linecolor": "#EBF0F8",
            "ticks": ""
           },
           "bgcolor": "white",
           "radialaxis": {
            "gridcolor": "#EBF0F8",
            "linecolor": "#EBF0F8",
            "ticks": ""
           }
          },
          "scene": {
           "xaxis": {
            "backgroundcolor": "white",
            "gridcolor": "#DFE8F3",
            "gridwidth": 2,
            "linecolor": "#EBF0F8",
            "showbackground": true,
            "ticks": "",
            "zerolinecolor": "#EBF0F8"
           },
           "yaxis": {
            "backgroundcolor": "white",
            "gridcolor": "#DFE8F3",
            "gridwidth": 2,
            "linecolor": "#EBF0F8",
            "showbackground": true,
            "ticks": "",
            "zerolinecolor": "#EBF0F8"
           },
           "zaxis": {
            "backgroundcolor": "white",
            "gridcolor": "#DFE8F3",
            "gridwidth": 2,
            "linecolor": "#EBF0F8",
            "showbackground": true,
            "ticks": "",
            "zerolinecolor": "#EBF0F8"
           }
          },
          "shapedefaults": {
           "line": {
            "color": "#2a3f5f"
           }
          },
          "ternary": {
           "aaxis": {
            "gridcolor": "#DFE8F3",
            "linecolor": "#A2B1C6",
            "ticks": ""
           },
           "baxis": {
            "gridcolor": "#DFE8F3",
            "linecolor": "#A2B1C6",
            "ticks": ""
           },
           "bgcolor": "white",
           "caxis": {
            "gridcolor": "#DFE8F3",
            "linecolor": "#A2B1C6",
            "ticks": ""
           }
          },
          "title": {
           "x": 0.05
          },
          "xaxis": {
           "automargin": true,
           "gridcolor": "#EBF0F8",
           "linecolor": "#EBF0F8",
           "ticks": "",
           "title": {
            "standoff": 15
           },
           "zerolinecolor": "#EBF0F8",
           "zerolinewidth": 2
          },
          "yaxis": {
           "automargin": true,
           "gridcolor": "#EBF0F8",
           "linecolor": "#EBF0F8",
           "ticks": "",
           "title": {
            "standoff": 15
           },
           "zerolinecolor": "#EBF0F8",
           "zerolinewidth": 2
          }
         }
        },
        "title": {
         "font": {
          "color": "Black",
          "size": 22
         },
         "text": "Topic Word Scores",
         "x": 0.5,
         "xanchor": "center",
         "yanchor": "top"
        },
        "width": 1000,
        "xaxis": {
         "anchor": "y",
         "domain": [
          0,
          0.175
         ],
         "showgrid": true
        },
        "xaxis2": {
         "anchor": "y2",
         "domain": [
          0.275,
          0.45
         ],
         "showgrid": true
        },
        "xaxis3": {
         "anchor": "y3",
         "domain": [
          0.55,
          0.7250000000000001
         ],
         "showgrid": true
        },
        "xaxis4": {
         "anchor": "y4",
         "domain": [
          0.825,
          1
         ],
         "showgrid": true
        },
        "xaxis5": {
         "anchor": "y5",
         "domain": [
          0,
          0.175
         ],
         "showgrid": true
        },
        "xaxis6": {
         "anchor": "y6",
         "domain": [
          0.275,
          0.45
         ],
         "showgrid": true
        },
        "xaxis7": {
         "anchor": "y7",
         "domain": [
          0.55,
          0.7250000000000001
         ],
         "showgrid": true
        },
        "xaxis8": {
         "anchor": "y8",
         "domain": [
          0.825,
          1
         ],
         "showgrid": true
        },
        "yaxis": {
         "anchor": "x",
         "domain": [
          0.6000000000000001,
          1
         ],
         "showgrid": true
        },
        "yaxis2": {
         "anchor": "x2",
         "domain": [
          0.6000000000000001,
          1
         ],
         "showgrid": true
        },
        "yaxis3": {
         "anchor": "x3",
         "domain": [
          0.6000000000000001,
          1
         ],
         "showgrid": true
        },
        "yaxis4": {
         "anchor": "x4",
         "domain": [
          0.6000000000000001,
          1
         ],
         "showgrid": true
        },
        "yaxis5": {
         "anchor": "x5",
         "domain": [
          0,
          0.4
         ],
         "showgrid": true
        },
        "yaxis6": {
         "anchor": "x6",
         "domain": [
          0,
          0.4
         ],
         "showgrid": true
        },
        "yaxis7": {
         "anchor": "x7",
         "domain": [
          0,
          0.4
         ],
         "showgrid": true
        },
        "yaxis8": {
         "anchor": "x8",
         "domain": [
          0,
          0.4
         ],
         "showgrid": true
        }
       }
      },
      "text/html": [
       "<div>                            <div id=\"b158a7d2-7fa6-43f7-8c41-af2bd5694e4d\" class=\"plotly-graph-div\" style=\"height:500px; width:1000px;\"></div>            <script type=\"text/javascript\">                require([\"plotly\"], function(Plotly) {                    window.PLOTLYENV=window.PLOTLYENV || {};                                    if (document.getElementById(\"b158a7d2-7fa6-43f7-8c41-af2bd5694e4d\")) {                    Plotly.newPlot(                        \"b158a7d2-7fa6-43f7-8c41-af2bd5694e4d\",                        [{\"marker\":{\"color\":\"#D55E00\"},\"orientation\":\"h\",\"x\":[0.03715913665065035,0.0398525671761,0.062470842860224966,0.062492770739728185,0.07043157109897992],\"y\":[\"d\\u00e9pense  \",\"proposition  \",\"million  \",\"budget  \",\"franc  \"],\"type\":\"bar\",\"xaxis\":\"x\",\"yaxis\":\"y\"},{\"marker\":{\"color\":\"#0072B2\"},\"orientation\":\"h\",\"x\":[0.030461182272933006,0.03283670840510709,0.0330987606736811,0.03581741267253086,0.0652157619553017],\"y\":[\"question  \",\"initiative  \",\"\\u00eatre  \",\"suisse  \",\"canton  \"],\"type\":\"bar\",\"xaxis\":\"x2\",\"yaxis\":\"y2\"},{\"marker\":{\"color\":\"#CC79A7\"},\"orientation\":\"h\",\"x\":[0.04754422424828203,0.05240230888858334,0.05717959998423637,0.06940709927008874,0.0836077632410701],\"y\":[\"initiative  \",\"pilier  \",\"avs  \",\"av  \",\"rente  \"],\"type\":\"bar\",\"xaxis\":\"x3\",\"yaxis\":\"y3\"},{\"marker\":{\"color\":\"#E69F00\"},\"orientation\":\"h\",\"x\":[0.029155871786392982,0.03044076351053665,0.03282816900166436,0.040438582679283894,0.041966055148184044],\"y\":[\"sant\\u00e9  \",\"article  \",\"maladie  \",\"m\\u00e9decin  \",\"patient  \"],\"type\":\"bar\",\"xaxis\":\"x4\",\"yaxis\":\"y4\"},{\"marker\":{\"color\":\"#56B4E9\"},\"orientation\":\"h\",\"x\":[0.027327150703332227,0.028450168918923283,0.028524489852662007,0.03127120230921087,0.032749553020055076],\"y\":[\"droit  \",\"loi  \",\"cas  \",\"\\u00eatre  \",\"parlementaire  \"],\"type\":\"bar\",\"xaxis\":\"x5\",\"yaxis\":\"y5\"},{\"marker\":{\"color\":\"#009E73\"},\"orientation\":\"h\",\"x\":[0.0373745141111973,0.04011756792165091,0.042114459672242366,0.05313714552773753,0.05988435945942062],\"y\":[\"\\u00eatre  \",\"service  \",\"motion  \",\"d\\u00e9bat  \",\"public  \"],\"type\":\"bar\",\"xaxis\":\"x6\",\"yaxis\":\"y6\"},{\"marker\":{\"color\":\"#F0E442\"},\"orientation\":\"h\",\"x\":[0.030597528742632784,0.03621569502933592,0.04480501422266681,0.046161648946762994,0.06216563253369614],\"y\":[\"agricole  \",\"ressource  \",\"initiative  \",\"\\u00e9conomie  \",\"suisse  \"],\"type\":\"bar\",\"xaxis\":\"x7\",\"yaxis\":\"y7\"}],                        {\"template\":{\"data\":{\"barpolar\":[{\"marker\":{\"line\":{\"color\":\"white\",\"width\":0.5},\"pattern\":{\"fillmode\":\"overlay\",\"size\":10,\"solidity\":0.2}},\"type\":\"barpolar\"}],\"bar\":[{\"error_x\":{\"color\":\"#2a3f5f\"},\"error_y\":{\"color\":\"#2a3f5f\"},\"marker\":{\"line\":{\"color\":\"white\",\"width\":0.5},\"pattern\":{\"fillmode\":\"overlay\",\"size\":10,\"solidity\":0.2}},\"type\":\"bar\"}],\"carpet\":[{\"aaxis\":{\"endlinecolor\":\"#2a3f5f\",\"gridcolor\":\"#C8D4E3\",\"linecolor\":\"#C8D4E3\",\"minorgridcolor\":\"#C8D4E3\",\"startlinecolor\":\"#2a3f5f\"},\"baxis\":{\"endlinecolor\":\"#2a3f5f\",\"gridcolor\":\"#C8D4E3\",\"linecolor\":\"#C8D4E3\",\"minorgridcolor\":\"#C8D4E3\",\"startlinecolor\":\"#2a3f5f\"},\"type\":\"carpet\"}],\"choropleth\":[{\"colorbar\":{\"outlinewidth\":0,\"ticks\":\"\"},\"type\":\"choropleth\"}],\"contourcarpet\":[{\"colorbar\":{\"outlinewidth\":0,\"ticks\":\"\"},\"type\":\"contourcarpet\"}],\"contour\":[{\"colorbar\":{\"outlinewidth\":0,\"ticks\":\"\"},\"colorscale\":[[0.0,\"#0d0887\"],[0.1111111111111111,\"#46039f\"],[0.2222222222222222,\"#7201a8\"],[0.3333333333333333,\"#9c179e\"],[0.4444444444444444,\"#bd3786\"],[0.5555555555555556,\"#d8576b\"],[0.6666666666666666,\"#ed7953\"],[0.7777777777777778,\"#fb9f3a\"],[0.8888888888888888,\"#fdca26\"],[1.0,\"#f0f921\"]],\"type\":\"contour\"}],\"heatmapgl\":[{\"colorbar\":{\"outlinewidth\":0,\"ticks\":\"\"},\"colorscale\":[[0.0,\"#0d0887\"],[0.1111111111111111,\"#46039f\"],[0.2222222222222222,\"#7201a8\"],[0.3333333333333333,\"#9c179e\"],[0.4444444444444444,\"#bd3786\"],[0.5555555555555556,\"#d8576b\"],[0.6666666666666666,\"#ed7953\"],[0.7777777777777778,\"#fb9f3a\"],[0.8888888888888888,\"#fdca26\"],[1.0,\"#f0f921\"]],\"type\":\"heatmapgl\"}],\"heatmap\":[{\"colorbar\":{\"outlinewidth\":0,\"ticks\":\"\"},\"colorscale\":[[0.0,\"#0d0887\"],[0.1111111111111111,\"#46039f\"],[0.2222222222222222,\"#7201a8\"],[0.3333333333333333,\"#9c179e\"],[0.4444444444444444,\"#bd3786\"],[0.5555555555555556,\"#d8576b\"],[0.6666666666666666,\"#ed7953\"],[0.7777777777777778,\"#fb9f3a\"],[0.8888888888888888,\"#fdca26\"],[1.0,\"#f0f921\"]],\"type\":\"heatmap\"}],\"histogram2dcontour\":[{\"colorbar\":{\"outlinewidth\":0,\"ticks\":\"\"},\"colorscale\":[[0.0,\"#0d0887\"],[0.1111111111111111,\"#46039f\"],[0.2222222222222222,\"#7201a8\"],[0.3333333333333333,\"#9c179e\"],[0.4444444444444444,\"#bd3786\"],[0.5555555555555556,\"#d8576b\"],[0.6666666666666666,\"#ed7953\"],[0.7777777777777778,\"#fb9f3a\"],[0.8888888888888888,\"#fdca26\"],[1.0,\"#f0f921\"]],\"type\":\"histogram2dcontour\"}],\"histogram2d\":[{\"colorbar\":{\"outlinewidth\":0,\"ticks\":\"\"},\"colorscale\":[[0.0,\"#0d0887\"],[0.1111111111111111,\"#46039f\"],[0.2222222222222222,\"#7201a8\"],[0.3333333333333333,\"#9c179e\"],[0.4444444444444444,\"#bd3786\"],[0.5555555555555556,\"#d8576b\"],[0.6666666666666666,\"#ed7953\"],[0.7777777777777778,\"#fb9f3a\"],[0.8888888888888888,\"#fdca26\"],[1.0,\"#f0f921\"]],\"type\":\"histogram2d\"}],\"histogram\":[{\"marker\":{\"pattern\":{\"fillmode\":\"overlay\",\"size\":10,\"solidity\":0.2}},\"type\":\"histogram\"}],\"mesh3d\":[{\"colorbar\":{\"outlinewidth\":0,\"ticks\":\"\"},\"type\":\"mesh3d\"}],\"parcoords\":[{\"line\":{\"colorbar\":{\"outlinewidth\":0,\"ticks\":\"\"}},\"type\":\"parcoords\"}],\"pie\":[{\"automargin\":true,\"type\":\"pie\"}],\"scatter3d\":[{\"line\":{\"colorbar\":{\"outlinewidth\":0,\"ticks\":\"\"}},\"marker\":{\"colorbar\":{\"outlinewidth\":0,\"ticks\":\"\"}},\"type\":\"scatter3d\"}],\"scattercarpet\":[{\"marker\":{\"colorbar\":{\"outlinewidth\":0,\"ticks\":\"\"}},\"type\":\"scattercarpet\"}],\"scattergeo\":[{\"marker\":{\"colorbar\":{\"outlinewidth\":0,\"ticks\":\"\"}},\"type\":\"scattergeo\"}],\"scattergl\":[{\"marker\":{\"colorbar\":{\"outlinewidth\":0,\"ticks\":\"\"}},\"type\":\"scattergl\"}],\"scattermapbox\":[{\"marker\":{\"colorbar\":{\"outlinewidth\":0,\"ticks\":\"\"}},\"type\":\"scattermapbox\"}],\"scatterpolargl\":[{\"marker\":{\"colorbar\":{\"outlinewidth\":0,\"ticks\":\"\"}},\"type\":\"scatterpolargl\"}],\"scatterpolar\":[{\"marker\":{\"colorbar\":{\"outlinewidth\":0,\"ticks\":\"\"}},\"type\":\"scatterpolar\"}],\"scatter\":[{\"fillpattern\":{\"fillmode\":\"overlay\",\"size\":10,\"solidity\":0.2},\"type\":\"scatter\"}],\"scatterternary\":[{\"marker\":{\"colorbar\":{\"outlinewidth\":0,\"ticks\":\"\"}},\"type\":\"scatterternary\"}],\"surface\":[{\"colorbar\":{\"outlinewidth\":0,\"ticks\":\"\"},\"colorscale\":[[0.0,\"#0d0887\"],[0.1111111111111111,\"#46039f\"],[0.2222222222222222,\"#7201a8\"],[0.3333333333333333,\"#9c179e\"],[0.4444444444444444,\"#bd3786\"],[0.5555555555555556,\"#d8576b\"],[0.6666666666666666,\"#ed7953\"],[0.7777777777777778,\"#fb9f3a\"],[0.8888888888888888,\"#fdca26\"],[1.0,\"#f0f921\"]],\"type\":\"surface\"}],\"table\":[{\"cells\":{\"fill\":{\"color\":\"#EBF0F8\"},\"line\":{\"color\":\"white\"}},\"header\":{\"fill\":{\"color\":\"#C8D4E3\"},\"line\":{\"color\":\"white\"}},\"type\":\"table\"}]},\"layout\":{\"annotationdefaults\":{\"arrowcolor\":\"#2a3f5f\",\"arrowhead\":0,\"arrowwidth\":1},\"autotypenumbers\":\"strict\",\"coloraxis\":{\"colorbar\":{\"outlinewidth\":0,\"ticks\":\"\"}},\"colorscale\":{\"diverging\":[[0,\"#8e0152\"],[0.1,\"#c51b7d\"],[0.2,\"#de77ae\"],[0.3,\"#f1b6da\"],[0.4,\"#fde0ef\"],[0.5,\"#f7f7f7\"],[0.6,\"#e6f5d0\"],[0.7,\"#b8e186\"],[0.8,\"#7fbc41\"],[0.9,\"#4d9221\"],[1,\"#276419\"]],\"sequential\":[[0.0,\"#0d0887\"],[0.1111111111111111,\"#46039f\"],[0.2222222222222222,\"#7201a8\"],[0.3333333333333333,\"#9c179e\"],[0.4444444444444444,\"#bd3786\"],[0.5555555555555556,\"#d8576b\"],[0.6666666666666666,\"#ed7953\"],[0.7777777777777778,\"#fb9f3a\"],[0.8888888888888888,\"#fdca26\"],[1.0,\"#f0f921\"]],\"sequentialminus\":[[0.0,\"#0d0887\"],[0.1111111111111111,\"#46039f\"],[0.2222222222222222,\"#7201a8\"],[0.3333333333333333,\"#9c179e\"],[0.4444444444444444,\"#bd3786\"],[0.5555555555555556,\"#d8576b\"],[0.6666666666666666,\"#ed7953\"],[0.7777777777777778,\"#fb9f3a\"],[0.8888888888888888,\"#fdca26\"],[1.0,\"#f0f921\"]]},\"colorway\":[\"#636efa\",\"#EF553B\",\"#00cc96\",\"#ab63fa\",\"#FFA15A\",\"#19d3f3\",\"#FF6692\",\"#B6E880\",\"#FF97FF\",\"#FECB52\"],\"font\":{\"color\":\"#2a3f5f\"},\"geo\":{\"bgcolor\":\"white\",\"lakecolor\":\"white\",\"landcolor\":\"white\",\"showlakes\":true,\"showland\":true,\"subunitcolor\":\"#C8D4E3\"},\"hoverlabel\":{\"align\":\"left\"},\"hovermode\":\"closest\",\"mapbox\":{\"style\":\"light\"},\"paper_bgcolor\":\"white\",\"plot_bgcolor\":\"white\",\"polar\":{\"angularaxis\":{\"gridcolor\":\"#EBF0F8\",\"linecolor\":\"#EBF0F8\",\"ticks\":\"\"},\"bgcolor\":\"white\",\"radialaxis\":{\"gridcolor\":\"#EBF0F8\",\"linecolor\":\"#EBF0F8\",\"ticks\":\"\"}},\"scene\":{\"xaxis\":{\"backgroundcolor\":\"white\",\"gridcolor\":\"#DFE8F3\",\"gridwidth\":2,\"linecolor\":\"#EBF0F8\",\"showbackground\":true,\"ticks\":\"\",\"zerolinecolor\":\"#EBF0F8\"},\"yaxis\":{\"backgroundcolor\":\"white\",\"gridcolor\":\"#DFE8F3\",\"gridwidth\":2,\"linecolor\":\"#EBF0F8\",\"showbackground\":true,\"ticks\":\"\",\"zerolinecolor\":\"#EBF0F8\"},\"zaxis\":{\"backgroundcolor\":\"white\",\"gridcolor\":\"#DFE8F3\",\"gridwidth\":2,\"linecolor\":\"#EBF0F8\",\"showbackground\":true,\"ticks\":\"\",\"zerolinecolor\":\"#EBF0F8\"}},\"shapedefaults\":{\"line\":{\"color\":\"#2a3f5f\"}},\"ternary\":{\"aaxis\":{\"gridcolor\":\"#DFE8F3\",\"linecolor\":\"#A2B1C6\",\"ticks\":\"\"},\"baxis\":{\"gridcolor\":\"#DFE8F3\",\"linecolor\":\"#A2B1C6\",\"ticks\":\"\"},\"bgcolor\":\"white\",\"caxis\":{\"gridcolor\":\"#DFE8F3\",\"linecolor\":\"#A2B1C6\",\"ticks\":\"\"}},\"title\":{\"x\":0.05},\"xaxis\":{\"automargin\":true,\"gridcolor\":\"#EBF0F8\",\"linecolor\":\"#EBF0F8\",\"ticks\":\"\",\"title\":{\"standoff\":15},\"zerolinecolor\":\"#EBF0F8\",\"zerolinewidth\":2},\"yaxis\":{\"automargin\":true,\"gridcolor\":\"#EBF0F8\",\"linecolor\":\"#EBF0F8\",\"ticks\":\"\",\"title\":{\"standoff\":15},\"zerolinecolor\":\"#EBF0F8\",\"zerolinewidth\":2}}},\"xaxis\":{\"anchor\":\"y\",\"domain\":[0.0,0.175],\"showgrid\":true},\"yaxis\":{\"anchor\":\"x\",\"domain\":[0.6000000000000001,1.0],\"showgrid\":true},\"xaxis2\":{\"anchor\":\"y2\",\"domain\":[0.275,0.45],\"showgrid\":true},\"yaxis2\":{\"anchor\":\"x2\",\"domain\":[0.6000000000000001,1.0],\"showgrid\":true},\"xaxis3\":{\"anchor\":\"y3\",\"domain\":[0.55,0.7250000000000001],\"showgrid\":true},\"yaxis3\":{\"anchor\":\"x3\",\"domain\":[0.6000000000000001,1.0],\"showgrid\":true},\"xaxis4\":{\"anchor\":\"y4\",\"domain\":[0.825,1.0],\"showgrid\":true},\"yaxis4\":{\"anchor\":\"x4\",\"domain\":[0.6000000000000001,1.0],\"showgrid\":true},\"xaxis5\":{\"anchor\":\"y5\",\"domain\":[0.0,0.175],\"showgrid\":true},\"yaxis5\":{\"anchor\":\"x5\",\"domain\":[0.0,0.4],\"showgrid\":true},\"xaxis6\":{\"anchor\":\"y6\",\"domain\":[0.275,0.45],\"showgrid\":true},\"yaxis6\":{\"anchor\":\"x6\",\"domain\":[0.0,0.4],\"showgrid\":true},\"xaxis7\":{\"anchor\":\"y7\",\"domain\":[0.55,0.7250000000000001],\"showgrid\":true},\"yaxis7\":{\"anchor\":\"x7\",\"domain\":[0.0,0.4],\"showgrid\":true},\"xaxis8\":{\"anchor\":\"y8\",\"domain\":[0.825,1.0],\"showgrid\":true},\"yaxis8\":{\"anchor\":\"x8\",\"domain\":[0.0,0.4],\"showgrid\":true},\"annotations\":[{\"font\":{\"size\":16},\"showarrow\":false,\"text\":\"Topic 0\",\"x\":0.0875,\"xanchor\":\"center\",\"xref\":\"paper\",\"y\":1.0,\"yanchor\":\"bottom\",\"yref\":\"paper\"},{\"font\":{\"size\":16},\"showarrow\":false,\"text\":\"Topic 1\",\"x\":0.36250000000000004,\"xanchor\":\"center\",\"xref\":\"paper\",\"y\":1.0,\"yanchor\":\"bottom\",\"yref\":\"paper\"},{\"font\":{\"size\":16},\"showarrow\":false,\"text\":\"Topic 2\",\"x\":0.6375000000000001,\"xanchor\":\"center\",\"xref\":\"paper\",\"y\":1.0,\"yanchor\":\"bottom\",\"yref\":\"paper\"},{\"font\":{\"size\":16},\"showarrow\":false,\"text\":\"Topic 3\",\"x\":0.9125,\"xanchor\":\"center\",\"xref\":\"paper\",\"y\":1.0,\"yanchor\":\"bottom\",\"yref\":\"paper\"},{\"font\":{\"size\":16},\"showarrow\":false,\"text\":\"Topic 4\",\"x\":0.0875,\"xanchor\":\"center\",\"xref\":\"paper\",\"y\":0.4,\"yanchor\":\"bottom\",\"yref\":\"paper\"},{\"font\":{\"size\":16},\"showarrow\":false,\"text\":\"Topic 5\",\"x\":0.36250000000000004,\"xanchor\":\"center\",\"xref\":\"paper\",\"y\":0.4,\"yanchor\":\"bottom\",\"yref\":\"paper\"},{\"font\":{\"size\":16},\"showarrow\":false,\"text\":\"Topic 6\",\"x\":0.6375000000000001,\"xanchor\":\"center\",\"xref\":\"paper\",\"y\":0.4,\"yanchor\":\"bottom\",\"yref\":\"paper\"}],\"title\":{\"font\":{\"size\":22,\"color\":\"Black\"},\"text\":\"Topic Word Scores\",\"x\":0.5,\"xanchor\":\"center\",\"yanchor\":\"top\"},\"hoverlabel\":{\"font\":{\"size\":16,\"family\":\"Rockwell\"},\"bgcolor\":\"white\"},\"showlegend\":false,\"width\":1000,\"height\":500},                        {\"responsive\": true}                    ).then(function(){\n",
       "                            \n",
       "var gd = document.getElementById('b158a7d2-7fa6-43f7-8c41-af2bd5694e4d');\n",
       "var x = new MutationObserver(function (mutations, observer) {{\n",
       "        var display = window.getComputedStyle(gd).display;\n",
       "        if (!display || display === 'none') {{\n",
       "            console.log([gd, 'removed!']);\n",
       "            Plotly.purge(gd);\n",
       "            observer.disconnect();\n",
       "        }}\n",
       "}});\n",
       "\n",
       "// Listen for the removal of the full notebook cells\n",
       "var notebookContainer = gd.closest('#notebook-container');\n",
       "if (notebookContainer) {{\n",
       "    x.observe(notebookContainer, {childList: true});\n",
       "}}\n",
       "\n",
       "// Listen for the clearing of the current output cell\n",
       "var outputEl = gd.closest('.output');\n",
       "if (outputEl) {{\n",
       "    x.observe(outputEl, {childList: true});\n",
       "}}\n",
       "\n",
       "                        })                };                });            </script>        </div>"
      ]
     },
     "metadata": {},
     "output_type": "display_data"
    }
   ],
   "source": []
  },
  {
   "cell_type": "code",
   "execution_count": null,
   "id": "4c28b9df-48e3-46bc-81b9-b8e9538f2f86",
   "metadata": {},
   "outputs": [],
   "source": []
  }
 ],
 "metadata": {
  "kernelspec": {
   "display_name": "Python (ef23_discours)",
   "language": "python",
   "name": ".venv"
  },
  "language_info": {
   "codemirror_mode": {
    "name": "ipython",
    "version": 3
   },
   "file_extension": ".py",
   "mimetype": "text/x-python",
   "name": "python",
   "nbconvert_exporter": "python",
   "pygments_lexer": "ipython3",
   "version": "3.9.13"
  }
 },
 "nbformat": 4,
 "nbformat_minor": 5
}
